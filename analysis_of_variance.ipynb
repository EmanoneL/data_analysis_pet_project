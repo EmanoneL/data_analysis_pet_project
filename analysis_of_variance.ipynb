{
  "cells": [
    {
      "cell_type": "markdown",
      "metadata": {
        "id": "view-in-github",
        "colab_type": "text"
      },
      "source": [
        "<a href=\"https://colab.research.google.com/github/EmanoneL/data_analysis_pet_project/blob/main/analysis_of_variance.ipynb\" target=\"_parent\"><img src=\"https://colab.research.google.com/assets/colab-badge.svg\" alt=\"Open In Colab\"/></a>"
      ]
    },
    {
      "cell_type": "markdown",
      "source": [
        "## Импорт библиотек"
      ],
      "metadata": {
        "id": "g00opaiO4-yg"
      }
    },
    {
      "cell_type": "code",
      "execution_count": null,
      "metadata": {
        "id": "3PMkciQXT3XH"
      },
      "outputs": [],
      "source": [
        "import pandas as pd # Для работы с DataFrame\n",
        "import numpy as np # Для математических операций с DataFrame\n",
        "import matplotlib.pyplot as plt # Для работы с графиками и гистограммами\n",
        "import scipy.stats as stats # Некоторые функции для работы со статистикой\n",
        "import seaborn as sns # Для ящика с усами\n",
        "from scipy.stats import kstest # Критерий Колмогорова-Смирнова\n",
        "from scipy.stats import chi2_contingency # Критерий хи-квадрат"
      ]
    },
    {
      "cell_type": "markdown",
      "source": [
        "## Пользовательские функции\n"
      ],
      "metadata": {
        "id": "Z3H_J3GH5E3W"
      }
    },
    {
      "cell_type": "code",
      "execution_count": null,
      "metadata": {
        "id": "Yujb8k4nhh9c"
      },
      "outputs": [],
      "source": [
        "# Формирует новый столбец(фичу) в DataFrame по данным из столбца price_doc\n",
        "def price_doc_to_class(df):\n",
        "    X = df.iloc[:, :-1]\n",
        "    y = df.iloc[:, -1]\n",
        "    X['class'] = ''\n",
        "\n",
        "    X.loc[(y <= 3000000), 'class'] = 'cheap'\n",
        "    X.loc[(y > 3000000) & (y <= 11000000), 'class'] = 'normal'\n",
        "    X.loc[y > 11000000, 'class'] = 'expensive'\n",
        "\n",
        "    X = pd.concat([X, y], axis=1)\n",
        "    return X"
      ]
    },
    {
      "cell_type": "code",
      "source": [
        "# Формирует новый столбец(фичу) в DataFrame по данным из столбца full_sq для дисперсионного анализа\n",
        "def full_sq_to_class(df):\n",
        "    X = df.iloc[:, :-1]\n",
        "    y = df.iloc[:, -1]\n",
        "    X['full_sq_category'] = ''\n",
        "\n",
        "    X.loc[(X['full_sq'] <= 30), 'full_sq_category'] = 'small'\n",
        "    X.loc[(X['full_sq'] > 30) & (X['full_sq'] <= 50), 'full_sq_category'] = 'normal'\n",
        "    X.loc[(X['full_sq'] > 50) & (X['full_sq'] <= 70), 'full_sq_category'] = 'big'\n",
        "    X.loc[X['full_sq'] > 70, 'full_sq_category'] = 'large'\n",
        "\n",
        "    X = pd.concat([X, y], axis=1)\n",
        "    return X"
      ],
      "metadata": {
        "id": "qZiwkWq0oO4l"
      },
      "execution_count": null,
      "outputs": []
    },
    {
      "cell_type": "code",
      "execution_count": null,
      "metadata": {
        "id": "o7HMYW1KnDHb"
      },
      "outputs": [],
      "source": [
        "# Проверяет близость к нормальному распределению для фичи по критерию Колмогорова-Смирнова\n",
        "def checkStandart(df, feature_name):\n",
        "  data = (df[feature_name] - df[feature_name].mean()) / df[feature_name].std()\n",
        "\n",
        "  # Выполняем K-S тест для проверки нормальности\n",
        "  stat, p_value = kstest(data, 'norm')\n",
        "  print(f'Statistic: {stat}, p-value: {p_value}')\n",
        "\n",
        "  # Интерпретация результата\n",
        "  alpha = 0.05\n",
        "  if p_value > alpha:\n",
        "      print('Распределение близко к нормальному (не отклоняем H0)')\n",
        "  else:\n",
        "      print('Распределение отличается от нормального (отклоняем H0)')"
      ]
    },
    {
      "cell_type": "code",
      "source": [
        "def breushPaganTest(X, y):\n",
        "  X_const = sm.add_constant(X)\n",
        "  model_sm = sm.OLS(y, X_const).fit()\n",
        "  test_stat, p_value, _, _ = het_breuschpagan(model_sm.resid, model_sm.model.exog)\n",
        "\n",
        "  print(f'Test Statistic: {test_stat}')\n",
        "  print(f'p-value: {p_value}')\n",
        "\n",
        "  if p_value < 0.05:\n",
        "      print(\"Отвергаем нулевую гипотезу: наличие гетероскедастичности.\")\n",
        "  else:\n",
        "      print(\"Не отвергаем нулевую гипотезу: гомоскедастичность сохраняется.\")"
      ],
      "metadata": {
        "id": "gU3lcEsoPogG"
      },
      "execution_count": null,
      "outputs": []
    },
    {
      "cell_type": "markdown",
      "source": [
        "## Загрузка датасета"
      ],
      "metadata": {
        "id": "gTaY0Yv05JIK"
      }
    },
    {
      "cell_type": "code",
      "execution_count": null,
      "metadata": {
        "colab": {
          "base_uri": "https://localhost:8080/",
          "height": 363
        },
        "id": "zNPfkLlGM8cd",
        "outputId": "00cb1e04-fa75-4152-a5e0-96ab5be72806"
      },
      "outputs": [
        {
          "output_type": "execute_result",
          "data": {
            "text/plain": [
              "   full_sq build_type   price_doc\n",
              "0       43     modern   5533460.0\n",
              "1       66      brezh   9900000.0\n",
              "2       55      brezh   1990000.0\n",
              "3       45      hrush   6500000.0\n",
              "4       43      hrush   8500000.0\n",
              "5       91     modern  15500000.0\n",
              "6       28      brezh   2544340.0\n",
              "7       38      brezh   2000000.0\n",
              "8       31      brezh    990000.0\n",
              "9       44      brezh   8600000.0"
            ],
            "text/html": [
              "\n",
              "  <div id=\"df-fed4aa2e-dc6b-48ad-84a9-cec87afee694\" class=\"colab-df-container\">\n",
              "    <div>\n",
              "<style scoped>\n",
              "    .dataframe tbody tr th:only-of-type {\n",
              "        vertical-align: middle;\n",
              "    }\n",
              "\n",
              "    .dataframe tbody tr th {\n",
              "        vertical-align: top;\n",
              "    }\n",
              "\n",
              "    .dataframe thead th {\n",
              "        text-align: right;\n",
              "    }\n",
              "</style>\n",
              "<table border=\"1\" class=\"dataframe\">\n",
              "  <thead>\n",
              "    <tr style=\"text-align: right;\">\n",
              "      <th></th>\n",
              "      <th>full_sq</th>\n",
              "      <th>build_type</th>\n",
              "      <th>price_doc</th>\n",
              "    </tr>\n",
              "  </thead>\n",
              "  <tbody>\n",
              "    <tr>\n",
              "      <th>0</th>\n",
              "      <td>43</td>\n",
              "      <td>modern</td>\n",
              "      <td>5533460.0</td>\n",
              "    </tr>\n",
              "    <tr>\n",
              "      <th>1</th>\n",
              "      <td>66</td>\n",
              "      <td>brezh</td>\n",
              "      <td>9900000.0</td>\n",
              "    </tr>\n",
              "    <tr>\n",
              "      <th>2</th>\n",
              "      <td>55</td>\n",
              "      <td>brezh</td>\n",
              "      <td>1990000.0</td>\n",
              "    </tr>\n",
              "    <tr>\n",
              "      <th>3</th>\n",
              "      <td>45</td>\n",
              "      <td>hrush</td>\n",
              "      <td>6500000.0</td>\n",
              "    </tr>\n",
              "    <tr>\n",
              "      <th>4</th>\n",
              "      <td>43</td>\n",
              "      <td>hrush</td>\n",
              "      <td>8500000.0</td>\n",
              "    </tr>\n",
              "    <tr>\n",
              "      <th>5</th>\n",
              "      <td>91</td>\n",
              "      <td>modern</td>\n",
              "      <td>15500000.0</td>\n",
              "    </tr>\n",
              "    <tr>\n",
              "      <th>6</th>\n",
              "      <td>28</td>\n",
              "      <td>brezh</td>\n",
              "      <td>2544340.0</td>\n",
              "    </tr>\n",
              "    <tr>\n",
              "      <th>7</th>\n",
              "      <td>38</td>\n",
              "      <td>brezh</td>\n",
              "      <td>2000000.0</td>\n",
              "    </tr>\n",
              "    <tr>\n",
              "      <th>8</th>\n",
              "      <td>31</td>\n",
              "      <td>brezh</td>\n",
              "      <td>990000.0</td>\n",
              "    </tr>\n",
              "    <tr>\n",
              "      <th>9</th>\n",
              "      <td>44</td>\n",
              "      <td>brezh</td>\n",
              "      <td>8600000.0</td>\n",
              "    </tr>\n",
              "  </tbody>\n",
              "</table>\n",
              "</div>\n",
              "    <div class=\"colab-df-buttons\">\n",
              "\n",
              "  <div class=\"colab-df-container\">\n",
              "    <button class=\"colab-df-convert\" onclick=\"convertToInteractive('df-fed4aa2e-dc6b-48ad-84a9-cec87afee694')\"\n",
              "            title=\"Convert this dataframe to an interactive table.\"\n",
              "            style=\"display:none;\">\n",
              "\n",
              "  <svg xmlns=\"http://www.w3.org/2000/svg\" height=\"24px\" viewBox=\"0 -960 960 960\">\n",
              "    <path d=\"M120-120v-720h720v720H120Zm60-500h600v-160H180v160Zm220 220h160v-160H400v160Zm0 220h160v-160H400v160ZM180-400h160v-160H180v160Zm440 0h160v-160H620v160ZM180-180h160v-160H180v160Zm440 0h160v-160H620v160Z\"/>\n",
              "  </svg>\n",
              "    </button>\n",
              "\n",
              "  <style>\n",
              "    .colab-df-container {\n",
              "      display:flex;\n",
              "      gap: 12px;\n",
              "    }\n",
              "\n",
              "    .colab-df-convert {\n",
              "      background-color: #E8F0FE;\n",
              "      border: none;\n",
              "      border-radius: 50%;\n",
              "      cursor: pointer;\n",
              "      display: none;\n",
              "      fill: #1967D2;\n",
              "      height: 32px;\n",
              "      padding: 0 0 0 0;\n",
              "      width: 32px;\n",
              "    }\n",
              "\n",
              "    .colab-df-convert:hover {\n",
              "      background-color: #E2EBFA;\n",
              "      box-shadow: 0px 1px 2px rgba(60, 64, 67, 0.3), 0px 1px 3px 1px rgba(60, 64, 67, 0.15);\n",
              "      fill: #174EA6;\n",
              "    }\n",
              "\n",
              "    .colab-df-buttons div {\n",
              "      margin-bottom: 4px;\n",
              "    }\n",
              "\n",
              "    [theme=dark] .colab-df-convert {\n",
              "      background-color: #3B4455;\n",
              "      fill: #D2E3FC;\n",
              "    }\n",
              "\n",
              "    [theme=dark] .colab-df-convert:hover {\n",
              "      background-color: #434B5C;\n",
              "      box-shadow: 0px 1px 3px 1px rgba(0, 0, 0, 0.15);\n",
              "      filter: drop-shadow(0px 1px 2px rgba(0, 0, 0, 0.3));\n",
              "      fill: #FFFFFF;\n",
              "    }\n",
              "  </style>\n",
              "\n",
              "    <script>\n",
              "      const buttonEl =\n",
              "        document.querySelector('#df-fed4aa2e-dc6b-48ad-84a9-cec87afee694 button.colab-df-convert');\n",
              "      buttonEl.style.display =\n",
              "        google.colab.kernel.accessAllowed ? 'block' : 'none';\n",
              "\n",
              "      async function convertToInteractive(key) {\n",
              "        const element = document.querySelector('#df-fed4aa2e-dc6b-48ad-84a9-cec87afee694');\n",
              "        const dataTable =\n",
              "          await google.colab.kernel.invokeFunction('convertToInteractive',\n",
              "                                                    [key], {});\n",
              "        if (!dataTable) return;\n",
              "\n",
              "        const docLinkHtml = 'Like what you see? Visit the ' +\n",
              "          '<a target=\"_blank\" href=https://colab.research.google.com/notebooks/data_table.ipynb>data table notebook</a>'\n",
              "          + ' to learn more about interactive tables.';\n",
              "        element.innerHTML = '';\n",
              "        dataTable['output_type'] = 'display_data';\n",
              "        await google.colab.output.renderOutput(dataTable, element);\n",
              "        const docLink = document.createElement('div');\n",
              "        docLink.innerHTML = docLinkHtml;\n",
              "        element.appendChild(docLink);\n",
              "      }\n",
              "    </script>\n",
              "  </div>\n",
              "\n",
              "\n",
              "<div id=\"df-75a1d46d-744c-4130-87e2-f4682c415891\">\n",
              "  <button class=\"colab-df-quickchart\" onclick=\"quickchart('df-75a1d46d-744c-4130-87e2-f4682c415891')\"\n",
              "            title=\"Suggest charts\"\n",
              "            style=\"display:none;\">\n",
              "\n",
              "<svg xmlns=\"http://www.w3.org/2000/svg\" height=\"24px\"viewBox=\"0 0 24 24\"\n",
              "     width=\"24px\">\n",
              "    <g>\n",
              "        <path d=\"M19 3H5c-1.1 0-2 .9-2 2v14c0 1.1.9 2 2 2h14c1.1 0 2-.9 2-2V5c0-1.1-.9-2-2-2zM9 17H7v-7h2v7zm4 0h-2V7h2v10zm4 0h-2v-4h2v4z\"/>\n",
              "    </g>\n",
              "</svg>\n",
              "  </button>\n",
              "\n",
              "<style>\n",
              "  .colab-df-quickchart {\n",
              "      --bg-color: #E8F0FE;\n",
              "      --fill-color: #1967D2;\n",
              "      --hover-bg-color: #E2EBFA;\n",
              "      --hover-fill-color: #174EA6;\n",
              "      --disabled-fill-color: #AAA;\n",
              "      --disabled-bg-color: #DDD;\n",
              "  }\n",
              "\n",
              "  [theme=dark] .colab-df-quickchart {\n",
              "      --bg-color: #3B4455;\n",
              "      --fill-color: #D2E3FC;\n",
              "      --hover-bg-color: #434B5C;\n",
              "      --hover-fill-color: #FFFFFF;\n",
              "      --disabled-bg-color: #3B4455;\n",
              "      --disabled-fill-color: #666;\n",
              "  }\n",
              "\n",
              "  .colab-df-quickchart {\n",
              "    background-color: var(--bg-color);\n",
              "    border: none;\n",
              "    border-radius: 50%;\n",
              "    cursor: pointer;\n",
              "    display: none;\n",
              "    fill: var(--fill-color);\n",
              "    height: 32px;\n",
              "    padding: 0;\n",
              "    width: 32px;\n",
              "  }\n",
              "\n",
              "  .colab-df-quickchart:hover {\n",
              "    background-color: var(--hover-bg-color);\n",
              "    box-shadow: 0 1px 2px rgba(60, 64, 67, 0.3), 0 1px 3px 1px rgba(60, 64, 67, 0.15);\n",
              "    fill: var(--button-hover-fill-color);\n",
              "  }\n",
              "\n",
              "  .colab-df-quickchart-complete:disabled,\n",
              "  .colab-df-quickchart-complete:disabled:hover {\n",
              "    background-color: var(--disabled-bg-color);\n",
              "    fill: var(--disabled-fill-color);\n",
              "    box-shadow: none;\n",
              "  }\n",
              "\n",
              "  .colab-df-spinner {\n",
              "    border: 2px solid var(--fill-color);\n",
              "    border-color: transparent;\n",
              "    border-bottom-color: var(--fill-color);\n",
              "    animation:\n",
              "      spin 1s steps(1) infinite;\n",
              "  }\n",
              "\n",
              "  @keyframes spin {\n",
              "    0% {\n",
              "      border-color: transparent;\n",
              "      border-bottom-color: var(--fill-color);\n",
              "      border-left-color: var(--fill-color);\n",
              "    }\n",
              "    20% {\n",
              "      border-color: transparent;\n",
              "      border-left-color: var(--fill-color);\n",
              "      border-top-color: var(--fill-color);\n",
              "    }\n",
              "    30% {\n",
              "      border-color: transparent;\n",
              "      border-left-color: var(--fill-color);\n",
              "      border-top-color: var(--fill-color);\n",
              "      border-right-color: var(--fill-color);\n",
              "    }\n",
              "    40% {\n",
              "      border-color: transparent;\n",
              "      border-right-color: var(--fill-color);\n",
              "      border-top-color: var(--fill-color);\n",
              "    }\n",
              "    60% {\n",
              "      border-color: transparent;\n",
              "      border-right-color: var(--fill-color);\n",
              "    }\n",
              "    80% {\n",
              "      border-color: transparent;\n",
              "      border-right-color: var(--fill-color);\n",
              "      border-bottom-color: var(--fill-color);\n",
              "    }\n",
              "    90% {\n",
              "      border-color: transparent;\n",
              "      border-bottom-color: var(--fill-color);\n",
              "    }\n",
              "  }\n",
              "</style>\n",
              "\n",
              "  <script>\n",
              "    async function quickchart(key) {\n",
              "      const quickchartButtonEl =\n",
              "        document.querySelector('#' + key + ' button');\n",
              "      quickchartButtonEl.disabled = true;  // To prevent multiple clicks.\n",
              "      quickchartButtonEl.classList.add('colab-df-spinner');\n",
              "      try {\n",
              "        const charts = await google.colab.kernel.invokeFunction(\n",
              "            'suggestCharts', [key], {});\n",
              "      } catch (error) {\n",
              "        console.error('Error during call to suggestCharts:', error);\n",
              "      }\n",
              "      quickchartButtonEl.classList.remove('colab-df-spinner');\n",
              "      quickchartButtonEl.classList.add('colab-df-quickchart-complete');\n",
              "    }\n",
              "    (() => {\n",
              "      let quickchartButtonEl =\n",
              "        document.querySelector('#df-75a1d46d-744c-4130-87e2-f4682c415891 button');\n",
              "      quickchartButtonEl.style.display =\n",
              "        google.colab.kernel.accessAllowed ? 'block' : 'none';\n",
              "    })();\n",
              "  </script>\n",
              "</div>\n",
              "    </div>\n",
              "  </div>\n"
            ],
            "application/vnd.google.colaboratory.intrinsic+json": {
              "type": "dataframe",
              "variable_name": "df",
              "summary": "{\n  \"name\": \"df\",\n  \"rows\": 5048,\n  \"fields\": [\n    {\n      \"column\": \"full_sq\",\n      \"properties\": {\n        \"dtype\": \"number\",\n        \"std\": 20,\n        \"min\": 1,\n        \"max\": 219,\n        \"num_unique_values\": 154,\n        \"samples\": [\n          36,\n          193,\n          215\n        ],\n        \"semantic_type\": \"\",\n        \"description\": \"\"\n      }\n    },\n    {\n      \"column\": \"build_type\",\n      \"properties\": {\n        \"dtype\": \"category\",\n        \"num_unique_values\": 4,\n        \"samples\": [\n          \"brezh\",\n          \"stal\",\n          \"modern\"\n        ],\n        \"semantic_type\": \"\",\n        \"description\": \"\"\n      }\n    },\n    {\n      \"column\": \"price_doc\",\n      \"properties\": {\n        \"dtype\": \"number\",\n        \"std\": 4480614.14868376,\n        \"min\": 300000.0,\n        \"max\": 53787140.0,\n        \"num_unique_values\": 2147,\n        \"samples\": [\n          6800924.0,\n          7070000.0,\n          3611995.0\n        ],\n        \"semantic_type\": \"\",\n        \"description\": \"\"\n      }\n    }\n  ]\n}"
            }
          },
          "metadata": {},
          "execution_count": 144
        }
      ],
      "source": [
        "df = pd.read_csv('dataset.csv', index_col=0) # Загружаем файл в DataFrame\n",
        "df.head(10) # Выводим первые 10 результатов"
      ]
    },
    {
      "cell_type": "code",
      "execution_count": null,
      "metadata": {
        "id": "uuyLGk4EXjnb",
        "colab": {
          "base_uri": "https://localhost:8080/"
        },
        "outputId": "68364fcf-5a9d-41a8-e8fe-d425a58f556d"
      },
      "outputs": [
        {
          "output_type": "stream",
          "name": "stdout",
          "text": [
            "<class 'pandas.core.frame.DataFrame'>\n",
            "Index: 5048 entries, 0 to 5047\n",
            "Data columns (total 3 columns):\n",
            " #   Column      Non-Null Count  Dtype  \n",
            "---  ------      --------------  -----  \n",
            " 0   full_sq     5048 non-null   int64  \n",
            " 1   build_type  5048 non-null   object \n",
            " 2   price_doc   5047 non-null   float64\n",
            "dtypes: float64(1), int64(1), object(1)\n",
            "memory usage: 157.8+ KB\n"
          ]
        }
      ],
      "source": [
        "df.info()"
      ]
    },
    {
      "cell_type": "markdown",
      "metadata": {
        "id": "Bnutv9VuiXQY"
      },
      "source": [
        "Заметим сразу, что в выборке нет пропусков"
      ]
    },
    {
      "cell_type": "markdown",
      "metadata": {
        "id": "GQ_ESjVevDES"
      },
      "source": [
        "**Описание датасета**\n",
        "\n",
        "* **full_sq** - общая площадь\n",
        "* **build_year** - год постройки\n",
        "* **price_doc** - цена квартиры"
      ]
    },
    {
      "cell_type": "markdown",
      "metadata": {
        "id": "e-5ut5Dmbukk"
      },
      "source": [
        "#Дескриптивный анализ"
      ]
    },
    {
      "cell_type": "code",
      "execution_count": null,
      "metadata": {
        "id": "UYz0vNkeWElE",
        "colab": {
          "base_uri": "https://localhost:8080/",
          "height": 507
        },
        "outputId": "bc171881-ce0c-4e54-e65a-66476db614be"
      },
      "outputs": [
        {
          "output_type": "execute_result",
          "data": {
            "text/plain": [
              "array([[<Axes: title={'center': 'full_sq'}>,\n",
              "        <Axes: title={'center': 'price_doc'}>]], dtype=object)"
            ]
          },
          "metadata": {},
          "execution_count": 146
        },
        {
          "output_type": "display_data",
          "data": {
            "text/plain": [
              "<Figure size 640x480 with 2 Axes>"
            ],
            "image/png": "[encoded data removed]"
          },
          "metadata": {}
        }
      ],
      "source": [
        "df.hist(bins=50)"
      ]
    },
    {
      "cell_type": "code",
      "execution_count": null,
      "metadata": {
        "id": "dPbuRrxKX4yX",
        "colab": {
          "base_uri": "https://localhost:8080/",
          "height": 335
        },
        "outputId": "77a2e2b0-20d4-408f-d152-a0275383164e"
      },
      "outputs": [
        {
          "output_type": "execute_result",
          "data": {
            "text/plain": [
              "count    5.047000e+03\n",
              "mean     7.056259e+06\n",
              "std      4.480614e+06\n",
              "min      3.000000e+05\n",
              "25%      4.687598e+06\n",
              "50%      6.250000e+06\n",
              "75%      8.264563e+06\n",
              "max      5.378714e+07\n",
              "Name: price_doc, dtype: float64"
            ],
            "text/html": [
              "<div>\n",
              "<style scoped>\n",
              "    .dataframe tbody tr th:only-of-type {\n",
              "        vertical-align: middle;\n",
              "    }\n",
              "\n",
              "    .dataframe tbody tr th {\n",
              "        vertical-align: top;\n",
              "    }\n",
              "\n",
              "    .dataframe thead th {\n",
              "        text-align: right;\n",
              "    }\n",
              "</style>\n",
              "<table border=\"1\" class=\"dataframe\">\n",
              "  <thead>\n",
              "    <tr style=\"text-align: right;\">\n",
              "      <th></th>\n",
              "      <th>price_doc</th>\n",
              "    </tr>\n",
              "  </thead>\n",
              "  <tbody>\n",
              "    <tr>\n",
              "      <th>count</th>\n",
              "      <td>5.047000e+03</td>\n",
              "    </tr>\n",
              "    <tr>\n",
              "      <th>mean</th>\n",
              "      <td>7.056259e+06</td>\n",
              "    </tr>\n",
              "    <tr>\n",
              "      <th>std</th>\n",
              "      <td>4.480614e+06</td>\n",
              "    </tr>\n",
              "    <tr>\n",
              "      <th>min</th>\n",
              "      <td>3.000000e+05</td>\n",
              "    </tr>\n",
              "    <tr>\n",
              "      <th>25%</th>\n",
              "      <td>4.687598e+06</td>\n",
              "    </tr>\n",
              "    <tr>\n",
              "      <th>50%</th>\n",
              "      <td>6.250000e+06</td>\n",
              "    </tr>\n",
              "    <tr>\n",
              "      <th>75%</th>\n",
              "      <td>8.264563e+06</td>\n",
              "    </tr>\n",
              "    <tr>\n",
              "      <th>max</th>\n",
              "      <td>5.378714e+07</td>\n",
              "    </tr>\n",
              "  </tbody>\n",
              "</table>\n",
              "</div><br><label><b>dtype:</b> float64</label>"
            ]
          },
          "metadata": {},
          "execution_count": 147
        }
      ],
      "source": [
        "df['price_doc'].describe()"
      ]
    },
    {
      "cell_type": "code",
      "execution_count": null,
      "metadata": {
        "id": "vdo92coXYbIM",
        "colab": {
          "base_uri": "https://localhost:8080/",
          "height": 335
        },
        "outputId": "49e4ca5d-37f9-4e57-fe36-d3ba4aaed00e"
      },
      "outputs": [
        {
          "output_type": "execute_result",
          "data": {
            "text/plain": [
              "count    5048.000000\n",
              "mean       53.572900\n",
              "std        20.896383\n",
              "min         1.000000\n",
              "25%        38.000000\n",
              "50%        49.000000\n",
              "75%        63.000000\n",
              "max       219.000000\n",
              "Name: full_sq, dtype: float64"
            ],
            "text/html": [
              "<div>\n",
              "<style scoped>\n",
              "    .dataframe tbody tr th:only-of-type {\n",
              "        vertical-align: middle;\n",
              "    }\n",
              "\n",
              "    .dataframe tbody tr th {\n",
              "        vertical-align: top;\n",
              "    }\n",
              "\n",
              "    .dataframe thead th {\n",
              "        text-align: right;\n",
              "    }\n",
              "</style>\n",
              "<table border=\"1\" class=\"dataframe\">\n",
              "  <thead>\n",
              "    <tr style=\"text-align: right;\">\n",
              "      <th></th>\n",
              "      <th>full_sq</th>\n",
              "    </tr>\n",
              "  </thead>\n",
              "  <tbody>\n",
              "    <tr>\n",
              "      <th>count</th>\n",
              "      <td>5048.000000</td>\n",
              "    </tr>\n",
              "    <tr>\n",
              "      <th>mean</th>\n",
              "      <td>53.572900</td>\n",
              "    </tr>\n",
              "    <tr>\n",
              "      <th>std</th>\n",
              "      <td>20.896383</td>\n",
              "    </tr>\n",
              "    <tr>\n",
              "      <th>min</th>\n",
              "      <td>1.000000</td>\n",
              "    </tr>\n",
              "    <tr>\n",
              "      <th>25%</th>\n",
              "      <td>38.000000</td>\n",
              "    </tr>\n",
              "    <tr>\n",
              "      <th>50%</th>\n",
              "      <td>49.000000</td>\n",
              "    </tr>\n",
              "    <tr>\n",
              "      <th>75%</th>\n",
              "      <td>63.000000</td>\n",
              "    </tr>\n",
              "    <tr>\n",
              "      <th>max</th>\n",
              "      <td>219.000000</td>\n",
              "    </tr>\n",
              "  </tbody>\n",
              "</table>\n",
              "</div><br><label><b>dtype:</b> float64</label>"
            ]
          },
          "metadata": {},
          "execution_count": 148
        }
      ],
      "source": [
        "df['full_sq'].describe()"
      ]
    },
    {
      "cell_type": "code",
      "execution_count": null,
      "metadata": {
        "id": "wsQr55ppYmYk",
        "colab": {
          "base_uri": "https://localhost:8080/",
          "height": 468
        },
        "outputId": "c678d5dd-2fba-4f77-c46a-247d7878dcda"
      },
      "outputs": [
        {
          "output_type": "execute_result",
          "data": {
            "text/plain": [
              "<Axes: xlabel='price_doc'>"
            ]
          },
          "metadata": {},
          "execution_count": 149
        },
        {
          "output_type": "display_data",
          "data": {
            "text/plain": [
              "<Figure size 640x480 with 1 Axes>"
            ],
            "image/png": "[encoded data removed]"
          },
          "metadata": {}
        }
      ],
      "source": [
        "sns.boxplot(x=df['price_doc'])"
      ]
    },
    {
      "cell_type": "code",
      "execution_count": null,
      "metadata": {
        "id": "IAt6HYjzcGJa",
        "colab": {
          "base_uri": "https://localhost:8080/",
          "height": 468
        },
        "outputId": "837bb75a-6d3a-4cd7-df4b-968574385f4e"
      },
      "outputs": [
        {
          "output_type": "execute_result",
          "data": {
            "text/plain": [
              "<Axes: xlabel='full_sq'>"
            ]
          },
          "metadata": {},
          "execution_count": 150
        },
        {
          "output_type": "display_data",
          "data": {
            "text/plain": [
              "<Figure size 640x480 with 1 Axes>"
            ],
            "image/png": "[encoded data removed]"
          },
          "metadata": {}
        }
      ],
      "source": [
        "sns.boxplot(x=df['full_sq'])"
      ]
    },
    {
      "cell_type": "code",
      "execution_count": null,
      "metadata": {
        "id": "aerGNPzicROM"
      },
      "outputs": [],
      "source": [
        "df = df[\n",
        "    (df['price_doc'] <= df['price_doc'].quantile(0.95))\n",
        "    & (df['full_sq'] <= df['full_sq'].quantile(0.95))\n",
        "]"
      ]
    },
    {
      "cell_type": "code",
      "execution_count": null,
      "metadata": {
        "id": "c3o6pi6Bci0R",
        "colab": {
          "base_uri": "https://localhost:8080/",
          "height": 507
        },
        "outputId": "6fe7eec9-a9cd-4754-eb55-54671b570c81"
      },
      "outputs": [
        {
          "output_type": "execute_result",
          "data": {
            "text/plain": [
              "array([[<Axes: title={'center': 'full_sq'}>,\n",
              "        <Axes: title={'center': 'price_doc'}>]], dtype=object)"
            ]
          },
          "metadata": {},
          "execution_count": 152
        },
        {
          "output_type": "display_data",
          "data": {
            "text/plain": [
              "<Figure size 640x480 with 2 Axes>"
            ],
            "image/png": "[encoded data removed]"
          },
          "metadata": {}
        }
      ],
      "source": [
        "df.hist(bins=50)"
      ]
    },
    {
      "cell_type": "code",
      "execution_count": null,
      "metadata": {
        "id": "qVxFaguPxISC",
        "colab": {
          "base_uri": "https://localhost:8080/",
          "height": 300
        },
        "outputId": "2be51390-c60e-4887-f0a3-8ae0b55ab28c"
      },
      "outputs": [
        {
          "output_type": "execute_result",
          "data": {
            "text/plain": [
              "           full_sq     price_doc\n",
              "count  4668.000000  4.668000e+03\n",
              "mean     49.915596  6.262458e+06\n",
              "std      14.943539  2.724044e+06\n",
              "min       1.000000  3.000000e+05\n",
              "25%      38.000000  4.550000e+06\n",
              "50%      46.000000  6.051250e+06\n",
              "75%      60.000000  7.750000e+06\n",
              "max      86.000000  1.430000e+07"
            ],
            "text/html": [
              "\n",
              "  <div id=\"df-bcd6313b-f91f-427e-b90c-2c93c9074c01\" class=\"colab-df-container\">\n",
              "    <div>\n",
              "<style scoped>\n",
              "    .dataframe tbody tr th:only-of-type {\n",
              "        vertical-align: middle;\n",
              "    }\n",
              "\n",
              "    .dataframe tbody tr th {\n",
              "        vertical-align: top;\n",
              "    }\n",
              "\n",
              "    .dataframe thead th {\n",
              "        text-align: right;\n",
              "    }\n",
              "</style>\n",
              "<table border=\"1\" class=\"dataframe\">\n",
              "  <thead>\n",
              "    <tr style=\"text-align: right;\">\n",
              "      <th></th>\n",
              "      <th>full_sq</th>\n",
              "      <th>price_doc</th>\n",
              "    </tr>\n",
              "  </thead>\n",
              "  <tbody>\n",
              "    <tr>\n",
              "      <th>count</th>\n",
              "      <td>4668.000000</td>\n",
              "      <td>4.668000e+03</td>\n",
              "    </tr>\n",
              "    <tr>\n",
              "      <th>mean</th>\n",
              "      <td>49.915596</td>\n",
              "      <td>6.262458e+06</td>\n",
              "    </tr>\n",
              "    <tr>\n",
              "      <th>std</th>\n",
              "      <td>14.943539</td>\n",
              "      <td>2.724044e+06</td>\n",
              "    </tr>\n",
              "    <tr>\n",
              "      <th>min</th>\n",
              "      <td>1.000000</td>\n",
              "      <td>3.000000e+05</td>\n",
              "    </tr>\n",
              "    <tr>\n",
              "      <th>25%</th>\n",
              "      <td>38.000000</td>\n",
              "      <td>4.550000e+06</td>\n",
              "    </tr>\n",
              "    <tr>\n",
              "      <th>50%</th>\n",
              "      <td>46.000000</td>\n",
              "      <td>6.051250e+06</td>\n",
              "    </tr>\n",
              "    <tr>\n",
              "      <th>75%</th>\n",
              "      <td>60.000000</td>\n",
              "      <td>7.750000e+06</td>\n",
              "    </tr>\n",
              "    <tr>\n",
              "      <th>max</th>\n",
              "      <td>86.000000</td>\n",
              "      <td>1.430000e+07</td>\n",
              "    </tr>\n",
              "  </tbody>\n",
              "</table>\n",
              "</div>\n",
              "    <div class=\"colab-df-buttons\">\n",
              "\n",
              "  <div class=\"colab-df-container\">\n",
              "    <button class=\"colab-df-convert\" onclick=\"convertToInteractive('df-bcd6313b-f91f-427e-b90c-2c93c9074c01')\"\n",
              "            title=\"Convert this dataframe to an interactive table.\"\n",
              "            style=\"display:none;\">\n",
              "\n",
              "  <svg xmlns=\"http://www.w3.org/2000/svg\" height=\"24px\" viewBox=\"0 -960 960 960\">\n",
              "    <path d=\"M120-120v-720h720v720H120Zm60-500h600v-160H180v160Zm220 220h160v-160H400v160Zm0 220h160v-160H400v160ZM180-400h160v-160H180v160Zm440 0h160v-160H620v160ZM180-180h160v-160H180v160Zm440 0h160v-160H620v160Z\"/>\n",
              "  </svg>\n",
              "    </button>\n",
              "\n",
              "  <style>\n",
              "    .colab-df-container {\n",
              "      display:flex;\n",
              "      gap: 12px;\n",
              "    }\n",
              "\n",
              "    .colab-df-convert {\n",
              "      background-color: #E8F0FE;\n",
              "      border: none;\n",
              "      border-radius: 50%;\n",
              "      cursor: pointer;\n",
              "      display: none;\n",
              "      fill: #1967D2;\n",
              "      height: 32px;\n",
              "      padding: 0 0 0 0;\n",
              "      width: 32px;\n",
              "    }\n",
              "\n",
              "    .colab-df-convert:hover {\n",
              "      background-color: #E2EBFA;\n",
              "      box-shadow: 0px 1px 2px rgba(60, 64, 67, 0.3), 0px 1px 3px 1px rgba(60, 64, 67, 0.15);\n",
              "      fill: #174EA6;\n",
              "    }\n",
              "\n",
              "    .colab-df-buttons div {\n",
              "      margin-bottom: 4px;\n",
              "    }\n",
              "\n",
              "    [theme=dark] .colab-df-convert {\n",
              "      background-color: #3B4455;\n",
              "      fill: #D2E3FC;\n",
              "    }\n",
              "\n",
              "    [theme=dark] .colab-df-convert:hover {\n",
              "      background-color: #434B5C;\n",
              "      box-shadow: 0px 1px 3px 1px rgba(0, 0, 0, 0.15);\n",
              "      filter: drop-shadow(0px 1px 2px rgba(0, 0, 0, 0.3));\n",
              "      fill: #FFFFFF;\n",
              "    }\n",
              "  </style>\n",
              "\n",
              "    <script>\n",
              "      const buttonEl =\n",
              "        document.querySelector('#df-bcd6313b-f91f-427e-b90c-2c93c9074c01 button.colab-df-convert');\n",
              "      buttonEl.style.display =\n",
              "        google.colab.kernel.accessAllowed ? 'block' : 'none';\n",
              "\n",
              "      async function convertToInteractive(key) {\n",
              "        const element = document.querySelector('#df-bcd6313b-f91f-427e-b90c-2c93c9074c01');\n",
              "        const dataTable =\n",
              "          await google.colab.kernel.invokeFunction('convertToInteractive',\n",
              "                                                    [key], {});\n",
              "        if (!dataTable) return;\n",
              "\n",
              "        const docLinkHtml = 'Like what you see? Visit the ' +\n",
              "          '<a target=\"_blank\" href=https://colab.research.google.com/notebooks/data_table.ipynb>data table notebook</a>'\n",
              "          + ' to learn more about interactive tables.';\n",
              "        element.innerHTML = '';\n",
              "        dataTable['output_type'] = 'display_data';\n",
              "        await google.colab.output.renderOutput(dataTable, element);\n",
              "        const docLink = document.createElement('div');\n",
              "        docLink.innerHTML = docLinkHtml;\n",
              "        element.appendChild(docLink);\n",
              "      }\n",
              "    </script>\n",
              "  </div>\n",
              "\n",
              "\n",
              "<div id=\"df-38eedd47-3223-4718-96f8-b882d7c08eca\">\n",
              "  <button class=\"colab-df-quickchart\" onclick=\"quickchart('df-38eedd47-3223-4718-96f8-b882d7c08eca')\"\n",
              "            title=\"Suggest charts\"\n",
              "            style=\"display:none;\">\n",
              "\n",
              "<svg xmlns=\"http://www.w3.org/2000/svg\" height=\"24px\"viewBox=\"0 0 24 24\"\n",
              "     width=\"24px\">\n",
              "    <g>\n",
              "        <path d=\"M19 3H5c-1.1 0-2 .9-2 2v14c0 1.1.9 2 2 2h14c1.1 0 2-.9 2-2V5c0-1.1-.9-2-2-2zM9 17H7v-7h2v7zm4 0h-2V7h2v10zm4 0h-2v-4h2v4z\"/>\n",
              "    </g>\n",
              "</svg>\n",
              "  </button>\n",
              "\n",
              "<style>\n",
              "  .colab-df-quickchart {\n",
              "      --bg-color: #E8F0FE;\n",
              "      --fill-color: #1967D2;\n",
              "      --hover-bg-color: #E2EBFA;\n",
              "      --hover-fill-color: #174EA6;\n",
              "      --disabled-fill-color: #AAA;\n",
              "      --disabled-bg-color: #DDD;\n",
              "  }\n",
              "\n",
              "  [theme=dark] .colab-df-quickchart {\n",
              "      --bg-color: #3B4455;\n",
              "      --fill-color: #D2E3FC;\n",
              "      --hover-bg-color: #434B5C;\n",
              "      --hover-fill-color: #FFFFFF;\n",
              "      --disabled-bg-color: #3B4455;\n",
              "      --disabled-fill-color: #666;\n",
              "  }\n",
              "\n",
              "  .colab-df-quickchart {\n",
              "    background-color: var(--bg-color);\n",
              "    border: none;\n",
              "    border-radius: 50%;\n",
              "    cursor: pointer;\n",
              "    display: none;\n",
              "    fill: var(--fill-color);\n",
              "    height: 32px;\n",
              "    padding: 0;\n",
              "    width: 32px;\n",
              "  }\n",
              "\n",
              "  .colab-df-quickchart:hover {\n",
              "    background-color: var(--hover-bg-color);\n",
              "    box-shadow: 0 1px 2px rgba(60, 64, 67, 0.3), 0 1px 3px 1px rgba(60, 64, 67, 0.15);\n",
              "    fill: var(--button-hover-fill-color);\n",
              "  }\n",
              "\n",
              "  .colab-df-quickchart-complete:disabled,\n",
              "  .colab-df-quickchart-complete:disabled:hover {\n",
              "    background-color: var(--disabled-bg-color);\n",
              "    fill: var(--disabled-fill-color);\n",
              "    box-shadow: none;\n",
              "  }\n",
              "\n",
              "  .colab-df-spinner {\n",
              "    border: 2px solid var(--fill-color);\n",
              "    border-color: transparent;\n",
              "    border-bottom-color: var(--fill-color);\n",
              "    animation:\n",
              "      spin 1s steps(1) infinite;\n",
              "  }\n",
              "\n",
              "  @keyframes spin {\n",
              "    0% {\n",
              "      border-color: transparent;\n",
              "      border-bottom-color: var(--fill-color);\n",
              "      border-left-color: var(--fill-color);\n",
              "    }\n",
              "    20% {\n",
              "      border-color: transparent;\n",
              "      border-left-color: var(--fill-color);\n",
              "      border-top-color: var(--fill-color);\n",
              "    }\n",
              "    30% {\n",
              "      border-color: transparent;\n",
              "      border-left-color: var(--fill-color);\n",
              "      border-top-color: var(--fill-color);\n",
              "      border-right-color: var(--fill-color);\n",
              "    }\n",
              "    40% {\n",
              "      border-color: transparent;\n",
              "      border-right-color: var(--fill-color);\n",
              "      border-top-color: var(--fill-color);\n",
              "    }\n",
              "    60% {\n",
              "      border-color: transparent;\n",
              "      border-right-color: var(--fill-color);\n",
              "    }\n",
              "    80% {\n",
              "      border-color: transparent;\n",
              "      border-right-color: var(--fill-color);\n",
              "      border-bottom-color: var(--fill-color);\n",
              "    }\n",
              "    90% {\n",
              "      border-color: transparent;\n",
              "      border-bottom-color: var(--fill-color);\n",
              "    }\n",
              "  }\n",
              "</style>\n",
              "\n",
              "  <script>\n",
              "    async function quickchart(key) {\n",
              "      const quickchartButtonEl =\n",
              "        document.querySelector('#' + key + ' button');\n",
              "      quickchartButtonEl.disabled = true;  // To prevent multiple clicks.\n",
              "      quickchartButtonEl.classList.add('colab-df-spinner');\n",
              "      try {\n",
              "        const charts = await google.colab.kernel.invokeFunction(\n",
              "            'suggestCharts', [key], {});\n",
              "      } catch (error) {\n",
              "        console.error('Error during call to suggestCharts:', error);\n",
              "      }\n",
              "      quickchartButtonEl.classList.remove('colab-df-spinner');\n",
              "      quickchartButtonEl.classList.add('colab-df-quickchart-complete');\n",
              "    }\n",
              "    (() => {\n",
              "      let quickchartButtonEl =\n",
              "        document.querySelector('#df-38eedd47-3223-4718-96f8-b882d7c08eca button');\n",
              "      quickchartButtonEl.style.display =\n",
              "        google.colab.kernel.accessAllowed ? 'block' : 'none';\n",
              "    })();\n",
              "  </script>\n",
              "</div>\n",
              "    </div>\n",
              "  </div>\n"
            ],
            "application/vnd.google.colaboratory.intrinsic+json": {
              "type": "dataframe",
              "summary": "{\n  \"name\": \"df\",\n  \"rows\": 8,\n  \"fields\": [\n    {\n      \"column\": \"full_sq\",\n      \"properties\": {\n        \"dtype\": \"number\",\n        \"std\": 1635.6522808886386,\n        \"min\": 1.0,\n        \"max\": 4668.0,\n        \"num_unique_values\": 8,\n        \"samples\": [\n          49.91559554413025,\n          46.0,\n          4668.0\n        ],\n        \"semantic_type\": \"\",\n        \"description\": \"\"\n      }\n    },\n    {\n      \"column\": \"price_doc\",\n      \"properties\": {\n        \"dtype\": \"number\",\n        \"std\": 4609084.462269713,\n        \"min\": 4668.0,\n        \"max\": 14300000.0,\n        \"num_unique_values\": 8,\n        \"samples\": [\n          6262457.557840617,\n          6051250.0,\n          4668.0\n        ],\n        \"semantic_type\": \"\",\n        \"description\": \"\"\n      }\n    }\n  ]\n}"
            }
          },
          "metadata": {},
          "execution_count": 153
        }
      ],
      "source": [
        "df.describe()"
      ]
    },
    {
      "cell_type": "code",
      "execution_count": null,
      "metadata": {
        "id": "6Ki1Q6OJmiPm",
        "colab": {
          "base_uri": "https://localhost:8080/"
        },
        "outputId": "58829968-f21b-49b1-c92a-981edd363a15"
      },
      "outputs": [
        {
          "output_type": "stream",
          "name": "stdout",
          "text": [
            "Statistic: 0.12440248264296977, p-value: 2.003385252551637e-63\n",
            "Распределение отличается от нормального (отклоняем H0)\n"
          ]
        }
      ],
      "source": [
        "checkStandart(df, 'full_sq')"
      ]
    },
    {
      "cell_type": "code",
      "execution_count": null,
      "metadata": {
        "id": "-zVKzNUXnpym",
        "colab": {
          "base_uri": "https://localhost:8080/"
        },
        "outputId": "d1190781-e042-436e-b0f2-461c0d2296f1"
      },
      "outputs": [
        {
          "output_type": "stream",
          "name": "stdout",
          "text": [
            "Statistic: 0.056612411744140334, p-value: 1.9107563092295784e-13\n",
            "Распределение отличается от нормального (отклоняем H0)\n"
          ]
        }
      ],
      "source": [
        "checkStandart(df, 'price_doc')"
      ]
    },
    {
      "cell_type": "code",
      "execution_count": null,
      "metadata": {
        "id": "lqBt6a0HqPK6",
        "colab": {
          "base_uri": "https://localhost:8080/"
        },
        "outputId": "ba5c55a1-b648-42d7-c7f0-05b50dd42b8a"
      },
      "outputs": [
        {
          "output_type": "stream",
          "name": "stdout",
          "text": [
            "Spearman's correlation: 0.431516972695883, p-value: 4.583669083144677e-211\n",
            "Корреляция значима (отклоняем H0)\n"
          ]
        }
      ],
      "source": [
        "from scipy.stats import spearmanr\n",
        "\n",
        "# Применям ранговую корреляцию Спирмана, так как распределение не нормальное\n",
        "corr, p_value = spearmanr(df['price_doc'], df['full_sq'])\n",
        "print(f\"Spearman's correlation: {corr}, p-value: {p_value}\")\n",
        "\n",
        "# Интерпретация\n",
        "alpha = 0.05\n",
        "if p_value < alpha:\n",
        "    print('Корреляция значима (отклоняем H0)')\n",
        "else:\n",
        "    print('Корреляция незначима (не отклоняем H0)')"
      ]
    },
    {
      "cell_type": "code",
      "execution_count": null,
      "metadata": {
        "id": "xUxsF_4AibSO"
      },
      "outputs": [],
      "source": [
        "df2 = price_doc_to_class(df) # Добавляем категориальную переменную"
      ]
    },
    {
      "cell_type": "code",
      "execution_count": null,
      "metadata": {
        "id": "WFHtBcB9hIbR",
        "colab": {
          "base_uri": "https://localhost:8080/"
        },
        "outputId": "bd38df22-7488-44cf-f642-de5fa2575a17"
      },
      "outputs": [
        {
          "output_type": "stream",
          "name": "stdout",
          "text": [
            "class       cheap  expensive  normal\n",
            "build_type                          \n",
            "brezh         263        107    2121\n",
            "hrush         109         44     775\n",
            "modern        134        126     800\n",
            "stal           16         22     151\n"
          ]
        }
      ],
      "source": [
        "# Строим таблицу сопряженности\n",
        "contingency_table = pd.crosstab(df2['build_type'], df2['class'])\n",
        "print(contingency_table)"
      ]
    },
    {
      "cell_type": "code",
      "execution_count": null,
      "metadata": {
        "id": "IYkjDpsEup1n",
        "colab": {
          "base_uri": "https://localhost:8080/"
        },
        "outputId": "9b0c063e-266a-4afa-ab4c-b94f0743ec3b"
      },
      "outputs": [
        {
          "output_type": "stream",
          "name": "stdout",
          "text": [
            "Chi-square statistic: 92.26716804805791\n",
            "p-value: 1.0239185405985243e-17\n",
            "Degrees of freedom: 6\n",
            "Expected frequencies:\n",
            " [[ 278.55655527  159.55634105 2052.88710368]\n",
            " [ 103.77377892   59.44130249  764.78491859]\n",
            " [ 118.53470437   67.89631534  873.56898029]\n",
            " [  21.13496144   12.10604113  155.75899743]]\n",
            "Отвергаем нулевую гипотезу - существует связь между переменными.\n"
          ]
        }
      ],
      "source": [
        "# Критерий хи-квадрат для проверки статистической гипотезы о независимости этих переменных\n",
        "chi2, p_value, dof, expected = chi2_contingency(contingency_table)\n",
        "\n",
        "print(f\"Chi-square statistic: {chi2}\")\n",
        "print(f\"p-value: {p_value}\")\n",
        "print(f\"Degrees of freedom: {dof}\")\n",
        "print(\"Expected frequencies:\\n\", expected)\n",
        "\n",
        "# Интерпретация результатов\n",
        "alpha = 0.05\n",
        "if p_value < alpha:\n",
        "    print(\"Отвергаем нулевую гипотезу - существует связь между переменными.\")\n",
        "else:\n",
        "    print(\"Не отвергаем нулевую гипотезу - связи между переменными не обнаружено.\")"
      ]
    },
    {
      "cell_type": "markdown",
      "source": [
        "## Дисперсионный анализ"
      ],
      "metadata": {
        "id": "nzd7ZkKpIOfe"
      }
    },
    {
      "cell_type": "markdown",
      "source": [
        "Нулевая гипотеза (H0): Средние значения цены квартир для различных типов домов не отличаются, то есть все группы имеют одинаковое среднее значение.\n",
        "\n",
        "\n",
        "Альтернативная гипотеза (H1): Средние значения цены квартир отличаются хотя бы для одной из групп типов домов.\n",
        "\n",
        "\n"
      ],
      "metadata": {
        "id": "KVMDSp1Cjbwn"
      }
    },
    {
      "cell_type": "code",
      "source": [
        "grouped_data = [df[df['build_type'] == group]['price_doc'] for group in df['build_type'].unique()]\n",
        "\n",
        "# Проведение однофакторного дисперсионного анализа ANOVA\n",
        "f_stat, p_value = stats.f_oneway(*grouped_data)\n",
        "\n",
        "# Вывод результатов\n",
        "print(f\"F-статистика: {f_stat}\")\n",
        "print(f\"p-значение: {p_value}\")\n",
        "\n",
        "# Проверка гипотезы\n",
        "alpha = 0.05\n",
        "if p_value < alpha:\n",
        "    print(\"Отвергаем нулевую гипотезу. Средние значения цен отличаются.\")\n",
        "else:\n",
        "    print(\"Не отвергаем нулевую гипотезу. Средние значения цен не отличаются.\")"
      ],
      "metadata": {
        "colab": {
          "base_uri": "https://localhost:8080/"
        },
        "id": "i4G7K_Arjm-M",
        "outputId": "b039bf49-0bda-4071-f72f-b8681dccc397"
      },
      "execution_count": null,
      "outputs": [
        {
          "output_type": "stream",
          "name": "stdout",
          "text": [
            "F-статистика: 36.31003684632008\n",
            "p-значение: 3.4484712306815347e-23\n",
            "Отвергаем нулевую гипотезу. Средние значения цен отличаются.\n"
          ]
        }
      ]
    },
    {
      "cell_type": "markdown",
      "source": [
        "##Двухфакторный дисперсионный анализ"
      ],
      "metadata": {
        "id": "_F5a0nBClhb5"
      }
    },
    {
      "cell_type": "markdown",
      "source": [
        "H0 (нулевая гипотеза): Фактор тип дома не оказывает влияния на цену квартиры\n",
        "\n",
        "H1 (альтернативная гипотеза): Фактор тип дома оказывает влияние на цену квартиры\n",
        "\n",
        "H0 (нулевая гипотеза): Фактор площадь не оказывает влияния на цену квартиры\n",
        "\n",
        "H1 (альтернативная гипотеза): Фактор площадь оказывает влияние на цену квартиры\n",
        "\n",
        "H0 (нулевая гипотеза): Нет эффектов взаимодействия типа квартиры и площади на цену\n",
        "\n",
        "H1 (альтернативная гипотеза): Есть эффекты взаимодействия типа квартиры и площади на цену"
      ],
      "metadata": {
        "id": "UUEg8hfFlqNm"
      }
    },
    {
      "cell_type": "markdown",
      "source": [
        "Поделим переменную полщадь квартиры на градации:\n",
        "\n",
        "Маленькие квартиры: площадь меньше 30 кв.м.\n",
        "\n",
        "Средние квартиры: площадь от 30 до 50 кв.м.\n",
        "\n",
        "Большие квартиры: площадь от 50 до 70 кв.м.\n",
        "\n",
        "Очень большие квартиры: площадь более 70 кв.м."
      ],
      "metadata": {
        "id": "darWCnJloGS0"
      }
    },
    {
      "cell_type": "code",
      "source": [
        "import pandas as pd\n",
        "import statsmodels.api as sm\n",
        "from statsmodels.formula.api import ols\n",
        "\n",
        "# Применяем функцию к столбцу full_sq\n",
        "df3 = full_sq_to_class(df)\n",
        "\n",
        "# Модель двухфакторного дисперсионного анализа (тип дома + категория площади)\n",
        "model = ols('price_doc ~ C(build_type) + C(full_sq_category) + C(build_type):C(full_sq_category)', data=df3).fit()\n",
        "\n",
        "# Проведение ANOVA\n",
        "anova_table = sm.stats.anova_lm(model, typ=2)\n",
        "\n",
        "# Вывод результатов\n",
        "print(anova_table)\n",
        "\n",
        "# Интерпретация результатов\n",
        "alpha = 0.05\n",
        "if anova_table[\"PR(>F)\"].iloc[0] < alpha:\n",
        "    print(\"Тип дома имеет значительное влияние на цену.\")\n",
        "else:\n",
        "    print(\"Тип дома не оказывает значительного влияния на цену.\")\n",
        "\n",
        "if anova_table[\"PR(>F)\"].iloc[1] < alpha:\n",
        "    print(\"Категория площади квартиры оказывает значительное влияние на цену.\")\n",
        "else:\n",
        "    print(\"Категория площади квартиры не оказывает значительного влияния на цену.\")\n",
        "\n",
        "if anova_table[\"PR(>F)\"].iloc[2] < alpha:\n",
        "    print(\"Есть значимое взаимодействие между типом дома и категорией площади квартиры.\")\n",
        "else:\n",
        "    print(\"Взаимодействие между типом дома и категорией площади квартиры незначительно.\")"
      ],
      "metadata": {
        "colab": {
          "base_uri": "https://localhost:8080/"
        },
        "id": "gleYBnGDmqFw",
        "outputId": "f22b55bb-c6f0-4105-a743-9c5ea3bb2544"
      },
      "execution_count": null,
      "outputs": [
        {
          "output_type": "stream",
          "name": "stdout",
          "text": [
            "                                         sum_sq      df           F  \\\n",
            "C(build_type)                      1.024147e+15     3.0   58.875533   \n",
            "C(full_sq_category)                6.665382e+15     3.0  383.175524   \n",
            "C(build_type):C(full_sq_category)  2.013179e+14     9.0    3.857747   \n",
            "Residual                           2.697402e+16  4652.0         NaN   \n",
            "\n",
            "                                          PR(>F)  \n",
            "C(build_type)                       2.377354e-37  \n",
            "C(full_sq_category)                2.066785e-222  \n",
            "C(build_type):C(full_sq_category)   6.960405e-05  \n",
            "Residual                                     NaN  \n",
            "Тип дома имеет значительное влияние на цену.\n",
            "Категория площади квартиры оказывает значительное влияние на цену.\n",
            "Есть значимое взаимодействие между типом дома и категорией площади квартиры.\n"
          ]
        }
      ]
    },
    {
      "cell_type": "code",
      "source": [
        "import seaborn as sns\n",
        "import matplotlib.pyplot as plt\n",
        "import pandas as pd\n",
        "import statsmodels.api as sm\n",
        "from statsmodels.graphics.factorplots import interaction_plot\n",
        "\n",
        "\n",
        "# График для визуализации взаимодействия между типом дома и категорией площади\n",
        "plt.figure(figsize=(10, 6))\n",
        "interaction_plot(df3['full_sq_category'], df3['build_type'], df3['price_doc'],\n",
        "                 colors=['red', 'blue', 'green', 'purple'], markers=['D', 'o', '^', 's'], ms=8)\n",
        "plt.title('Взаимодействие между типом дома и категорией площади на цену квартиры')\n",
        "plt.xlabel('Категория площади')\n",
        "plt.ylabel('Средняя цена квартиры')\n",
        "plt.show()\n"
      ],
      "metadata": {
        "colab": {
          "base_uri": "https://localhost:8080/",
          "height": 505
        },
        "id": "F1SSbFuL7I-9",
        "outputId": "6f9fd6b6-9f5b-4bcb-f3a1-cf582dabe82b"
      },
      "execution_count": null,
      "outputs": [
        {
          "output_type": "display_data",
          "data": {
            "text/plain": [
              "<Figure size 1000x600 with 0 Axes>"
            ]
          },
          "metadata": {}
        },
        {
          "output_type": "display_data",
          "data": {
            "text/plain": [
              "<Figure size 640x480 with 1 Axes>"
            ],
            "image/png": "[encoded data removed]"
          },
          "metadata": {}
        }
      ]
    }
  ],
  "metadata": {
    "colab": {
      "provenance": [],
      "include_colab_link": true
    },
    "kernelspec": {
      "display_name": "Python 3",
      "name": "python3"
    },
    "language_info": {
      "name": "python"
    }
  },
  "nbformat": 4,
  "nbformat_minor": 0
}